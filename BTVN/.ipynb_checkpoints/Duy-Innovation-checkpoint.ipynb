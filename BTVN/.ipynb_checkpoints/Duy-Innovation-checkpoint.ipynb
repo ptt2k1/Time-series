{
 "cells": [
  {
   "cell_type": "code",
   "execution_count": 1,
   "metadata": {},
   "outputs": [],
   "source": [
    "from statsmodels.tsa.stattools import levinson_durbin,levinson_durbin_pacf, pacf,acf, innovations_algo\n",
    "from statsmodels.tsa.arima_model import ARIMA, ARMA\n",
    "from statsmodels.tsa.statespace.sarimax import SARIMAX\n",
    "from statsmodels.tsa.arima_process import ArmaProcess, arma_acf, arma_acovf\n",
    "import statsmodels.api as sm\n",
    "import numpy as np\n",
    "import warnings\n",
    "warnings.filterwarnings('ignore')\n",
    "import matplotlib.pyplot as plt\n"
   ]
  },
  {
   "cell_type": "code",
   "execution_count": 7,
   "metadata": {},
   "outputs": [],
   "source": [
    "#ARMA(p, q): hệ số của ar_coff đổi dấu\n",
    "#vd: X_t - 0.4X_(t-1) + 0.7X_(t-2) = Z_t + 0.3Z_(t-1) - 0.4Z_(t-2)\n",
    "#ar_coff = [0.4, -0.7]\n",
    "#ma_coff = [0.3, -0.4]\n",
    "ar_coff = [1, 0.4, -0.7]\n",
    "ma_coff = [1, 0.3, -0.4]\n",
    "acf = []\n",
    "acvf = []\n",
    "lags = 4\n",
    "sigma2 = 1\n",
    "my_order = (1,1,1)\n",
    "my_seasonal_order = (1, 1, 1, 12)"
   ]
  },
  {
   "cell_type": "code",
   "execution_count": 28,
   "metadata": {},
   "outputs": [],
   "source": [
    "#ACVF by hand\n",
    "def sample_autocovariance(X, lags):\n",
    "    res = 0\n",
    "    k = abs(lags)\n",
    "    X_mean = X.mean()\n",
    "    for i in range(0, len(X) - k):\n",
    "        res += (X[i + k] - X_mean) * (X[i] - X_mean)\n",
    "    return res / len(X)\n",
    "#ACF by hand\n",
    "def sample_autocorreltion(X, h):\n",
    "    return sample_autocovariance(X, h) / sample_autocovariance(X, 0)"
   ]
  },
  {
   "cell_type": "code",
   "execution_count": 29,
   "metadata": {},
   "outputs": [],
   "source": [
    "#Arma from Coeff\n",
    "def ArmaFromCoeff(ar_coff,ma_coff):\n",
    "    return ArmaProcess.from_coeffs(ar_coff,ma_coff)"
   ]
  },
  {
   "cell_type": "code",
   "execution_count": 30,
   "metadata": {},
   "outputs": [],
   "source": [
    "#Arima with seasonal\n",
    "def Sarimax(X, my_order, my_seasonal_order):\n",
    "    return SARIMAX(X, order =my_order, seasonal_order=my_seasonal_order).fit()"
   ]
  },
  {
   "cell_type": "code",
   "execution_count": 15,
   "metadata": {},
   "outputs": [
    {
     "ename": "ValueError",
     "evalue": "The model's autoregressive parameters (ar) indicate that the process\n is non-stationary. arma_acovf can only be used with stationary processes.\n",
     "output_type": "error",
     "traceback": [
      "\u001b[1;31m---------------------------------------------------------------------------\u001b[0m",
      "\u001b[1;31mValueError\u001b[0m                                Traceback (most recent call last)",
      "\u001b[1;32m~\\AppData\\Local\\Temp/ipykernel_12688/2371189801.py\u001b[0m in \u001b[0;36m<module>\u001b[1;34m\u001b[0m\n\u001b[0;32m      7\u001b[0m \u001b[0mlags\u001b[0m \u001b[1;33m=\u001b[0m \u001b[1;36m5\u001b[0m\u001b[1;33m\u001b[0m\u001b[1;33m\u001b[0m\u001b[0m\n\u001b[0;32m      8\u001b[0m \u001b[0msigma2\u001b[0m \u001b[1;33m=\u001b[0m \u001b[1;36m1\u001b[0m\u001b[1;33m\u001b[0m\u001b[1;33m\u001b[0m\u001b[0m\n\u001b[1;32m----> 9\u001b[1;33m \u001b[0macvf\u001b[0m \u001b[1;33m=\u001b[0m \u001b[0mnp\u001b[0m\u001b[1;33m.\u001b[0m\u001b[0mndarray\u001b[0m\u001b[1;33m.\u001b[0m\u001b[0mtolist\u001b[0m\u001b[1;33m(\u001b[0m\u001b[0marma_acovf\u001b[0m\u001b[1;33m(\u001b[0m\u001b[0mar_coff\u001b[0m\u001b[1;33m,\u001b[0m\u001b[0mma_coff\u001b[0m\u001b[1;33m,\u001b[0m\u001b[0mlags\u001b[0m\u001b[1;33m+\u001b[0m\u001b[1;36m1\u001b[0m\u001b[1;33m,\u001b[0m\u001b[0mdtype\u001b[0m\u001b[1;33m=\u001b[0m\u001b[0mfloat\u001b[0m\u001b[1;33m,\u001b[0m\u001b[0msigma2\u001b[0m\u001b[1;33m=\u001b[0m\u001b[0msigma2\u001b[0m\u001b[1;33m)\u001b[0m\u001b[1;33m)\u001b[0m\u001b[1;33m\u001b[0m\u001b[1;33m\u001b[0m\u001b[0m\n\u001b[0m\u001b[0;32m     10\u001b[0m \u001b[0macf\u001b[0m \u001b[1;33m=\u001b[0m \u001b[0mnp\u001b[0m\u001b[1;33m.\u001b[0m\u001b[0mndarray\u001b[0m\u001b[1;33m.\u001b[0m\u001b[0mtolist\u001b[0m\u001b[1;33m(\u001b[0m\u001b[0marma_acf\u001b[0m\u001b[1;33m(\u001b[0m\u001b[0mar_coff\u001b[0m\u001b[1;33m,\u001b[0m\u001b[0mma_coff\u001b[0m\u001b[1;33m,\u001b[0m\u001b[0mlags\u001b[0m\u001b[1;33m+\u001b[0m\u001b[1;36m1\u001b[0m\u001b[1;33m)\u001b[0m\u001b[1;33m)\u001b[0m\u001b[1;33m\u001b[0m\u001b[1;33m\u001b[0m\u001b[0m\n\u001b[0;32m     11\u001b[0m \u001b[0mprint\u001b[0m\u001b[1;33m(\u001b[0m\u001b[1;34m\"ACVF \\n\"\u001b[0m\u001b[1;33m,\u001b[0m\u001b[0macvf\u001b[0m\u001b[1;33m)\u001b[0m\u001b[1;33m\u001b[0m\u001b[1;33m\u001b[0m\u001b[0m\n",
      "\u001b[1;32mD:\\anaconda3\\lib\\site-packages\\statsmodels\\tsa\\arima_process.py\u001b[0m in \u001b[0;36marma_acovf\u001b[1;34m(ar, ma, nobs, sigma2, dtype)\u001b[0m\n\u001b[0;32m    166\u001b[0m         \u001b[1;32mreturn\u001b[0m \u001b[0mout\u001b[0m\u001b[1;33m\u001b[0m\u001b[1;33m\u001b[0m\u001b[0m\n\u001b[0;32m    167\u001b[0m     \u001b[1;32melif\u001b[0m \u001b[0mp\u001b[0m \u001b[1;33m>\u001b[0m \u001b[1;36m0\u001b[0m \u001b[1;32mand\u001b[0m \u001b[0mnp\u001b[0m\u001b[1;33m.\u001b[0m\u001b[0mmax\u001b[0m\u001b[1;33m(\u001b[0m\u001b[0mnp\u001b[0m\u001b[1;33m.\u001b[0m\u001b[0mabs\u001b[0m\u001b[1;33m(\u001b[0m\u001b[0mnp\u001b[0m\u001b[1;33m.\u001b[0m\u001b[0mroots\u001b[0m\u001b[1;33m(\u001b[0m\u001b[0mar\u001b[0m\u001b[1;33m)\u001b[0m\u001b[1;33m)\u001b[0m\u001b[1;33m)\u001b[0m \u001b[1;33m>=\u001b[0m \u001b[1;36m1\u001b[0m\u001b[1;33m:\u001b[0m\u001b[1;33m\u001b[0m\u001b[1;33m\u001b[0m\u001b[0m\n\u001b[1;32m--> 168\u001b[1;33m         \u001b[1;32mraise\u001b[0m \u001b[0mValueError\u001b[0m\u001b[1;33m(\u001b[0m\u001b[0mNONSTATIONARY_ERROR\u001b[0m\u001b[1;33m)\u001b[0m\u001b[1;33m\u001b[0m\u001b[1;33m\u001b[0m\u001b[0m\n\u001b[0m\u001b[0;32m    169\u001b[0m \u001b[1;33m\u001b[0m\u001b[0m\n\u001b[0;32m    170\u001b[0m     \u001b[1;31m# Get the moving average representation coefficients that we need\u001b[0m\u001b[1;33m\u001b[0m\u001b[1;33m\u001b[0m\u001b[0m\n",
      "\u001b[1;31mValueError\u001b[0m: The model's autoregressive parameters (ar) indicate that the process\n is non-stationary. arma_acovf can only be used with stationary processes.\n"
     ]
    }
   ],
   "source": [
    "#Nếu cho mô hình như sau:\n",
    "#ARMA(p, q): hệ số của ar_coff đổi dấu\n",
    "#vd: X_t - 0.4X_(t-1) + 0.7X_(t-2) = Z_t + 0.3Z_(t-1) - 0.4Z_(t-2)\n",
    "#ar_coff = [1, 0.4, -0.7]\n",
    "ar_coff = [0.4, -0.7]\n",
    "ma_coff = [0.3, -0.4]\n",
    "lags = 5\n",
    "sigma2 = 0.0484\n",
    "acvf = np.ndarray.tolist(arma_acovf(ar_coff,ma_coff,lags+1,dtype=float,sigma2=sigma2))\n",
    "acf = np.ndarray.tolist(arma_acf(ar_coff,ma_coff,lags+1))\n",
    "print(\"ACVF \\n\",acvf)\n",
    "print(\"ACF \\n\",acf)"
   ]
  },
  {
   "cell_type": "code",
   "execution_count": 2,
   "metadata": {},
   "outputs": [
    {
     "name": "stdout",
     "output_type": "stream",
     "text": [
      "theta =  [[0.         0.        ]\n",
      " [0.60067546 0.        ]\n",
      " [0.92991695 0.01045953]\n",
      " [1.32157589 0.01636375]\n",
      " [2.68159004 0.02339129]]\n",
      "v:  [ 0.09327     0.05961716  0.04170613  0.02041167 -0.05353159]\n"
     ]
    }
   ],
   "source": [
    "acvf = [0.09327, 0.056025, 0.00097556]\n",
    "#innovation algo\n",
    "\n",
    "for i in range(1,5):\n",
    "    if i < len(acvf):\n",
    "        theta, v = innovations_algo(acvf[:i+1]) \n",
    "        #print(\"theta = \", theta)\n",
    "        #print(\"v: \", v[-1])\n",
    "    else:\n",
    "        acvf.append(0)\n",
    "        theta, v = innovations_algo(acvf)\n",
    "        #print(\"theta = \", theta)\n",
    "        #print(\"v: \", v[-1])\n",
    "print(\"theta = \", theta)\n",
    "print(\"v: \", v)"
   ]
  },
  {
   "cell_type": "code",
   "execution_count": 34,
   "metadata": {},
   "outputs": [],
   "source": [
    "Sarimax_res = Sarimax(X, my_order, my_seasonal_order)"
   ]
  },
  {
   "cell_type": "code",
   "execution_count": 35,
   "metadata": {},
   "outputs": [
    {
     "ename": "NameError",
     "evalue": "name 'plt' is not defined",
     "output_type": "error",
     "traceback": [
      "\u001b[1;31m---------------------------------------------------------------------------\u001b[0m",
      "\u001b[1;31mNameError\u001b[0m                                 Traceback (most recent call last)",
      "Cell \u001b[1;32mIn[35], line 1\u001b[0m\n\u001b[1;32m----> 1\u001b[0m plt\u001b[39m.\u001b[39mfigure(figsize\u001b[39m=\u001b[39m(\u001b[39m16\u001b[39m,\u001b[39m4\u001b[39m))\n\u001b[0;32m      2\u001b[0m plt\u001b[39m.\u001b[39mplot(X, label\u001b[39m=\u001b[39m\u001b[39m\"\u001b[39m\u001b[39mActual\u001b[39m\u001b[39m\"\u001b[39m)\n\u001b[0;32m      3\u001b[0m plt\u001b[39m.\u001b[39mplot(Sarimax_res\u001b[39m.\u001b[39mpredict(), label\u001b[39m=\u001b[39m\u001b[39m\"\u001b[39m\u001b[39mPredicted\u001b[39m\u001b[39m\"\u001b[39m)\n",
      "\u001b[1;31mNameError\u001b[0m: name 'plt' is not defined"
     ]
    }
   ],
   "source": [
    "plt.figure(figsize=(16,4))\n",
    "plt.plot(X, label=\"Actual\")\n",
    "plt.plot(Sarimax_res.predict(), label=\"Predicted\")\n",
    "plt.legend()"
   ]
  }
 ],
 "metadata": {
  "kernelspec": {
   "display_name": "Python 3 (ipykernel)",
   "language": "python",
   "name": "python3"
  },
  "language_info": {
   "codemirror_mode": {
    "name": "ipython",
    "version": 3
   },
   "file_extension": ".py",
   "mimetype": "text/x-python",
   "name": "python",
   "nbconvert_exporter": "python",
   "pygments_lexer": "ipython3",
   "version": "3.9.12"
  },
  "vscode": {
   "interpreter": {
    "hash": "067d1e07da3d3d6f96a9c661d3f9f126a682dc0ea3431ea2ad1f0ec48245ef88"
   }
  }
 },
 "nbformat": 4,
 "nbformat_minor": 4
}
