{
 "cells": [
  {
   "cell_type": "code",
   "execution_count": 1,
   "metadata": {},
   "outputs": [],
   "source": [
    "import numpy as np\n",
    "from statsmodels.tools.validation import (\n",
    "    array_like,\n",
    "    bool_like,\n",
    "    dict_like,\n",
    "    float_like,\n",
    "    int_like,\n",
    "    string_like,\n",
    ")\n",
    "\n",
    "def levinson_durbin(s, nlags=10, isacov=False):\n",
    "    \"\"\"\n",
    "    Levinson-Durbin recursion for autoregressive processes.\n",
    "\n",
    "    Parameters\n",
    "    ----------\n",
    "    s : array_like\n",
    "        If isacov is False, then this is the time series. If iasacov is true\n",
    "        then this is interpreted as autocovariance starting with lag 0.\n",
    "    nlags : int, optional\n",
    "        The largest lag to include in recursion or order of the autoregressive\n",
    "        process.\n",
    "    isacov : bool, optional\n",
    "        Flag indicating whether the first argument, s, contains the\n",
    "        autocovariances or the data series.\n",
    "\n",
    "    Returns\n",
    "    -------\n",
    "    sigma_v : float\n",
    "        The estimate of the error variance.\n",
    "    arcoefs : ndarray\n",
    "        The estimate of the autoregressive coefficients for a model including\n",
    "        nlags.\n",
    "    pacf : ndarray\n",
    "        The partial autocorrelation function.\n",
    "    sigma : ndarray\n",
    "        The entire sigma array from intermediate result, last value is sigma_v.\n",
    "    phi : ndarray\n",
    "        The entire phi array from intermediate result, last column contains\n",
    "        autoregressive coefficients for AR(nlags).\n",
    "\n",
    "    Notes\n",
    "    -----\n",
    "    This function returns currently all results, but maybe we drop sigma and\n",
    "    phi from the returns.\n",
    "\n",
    "    If this function is called with the time series (isacov=False), then the\n",
    "    sample autocovariance function is calculated with the default options\n",
    "    (biased, no fft).\n",
    "    \"\"\"\n",
    "    s = array_like(s, \"s\")\n",
    "    nlags = int_like(nlags, \"nlags\")\n",
    "    isacov = bool_like(isacov, \"isacov\")\n",
    "\n",
    "    order = nlags\n",
    "\n",
    "    if isacov:\n",
    "        sxx_m = s\n",
    "\n",
    "    phi = np.zeros((order + 1, order + 1), \"d\")\n",
    "    sig = np.zeros(order + 1)\n",
    "    # initial points for the recursion\n",
    "    phi[1, 1] = sxx_m[1] / sxx_m[0]\n",
    "    sig[1] = sxx_m[0] - phi[1, 1] * sxx_m[1]\n",
    "    for k in range(2, order + 1):\n",
    "        phi[k, k] = (\n",
    "            sxx_m[k] - np.dot(phi[1:k, k - 1], sxx_m[1:k][::-1])\n",
    "        ) / sig[k - 1]\n",
    "        for j in range(1, k):\n",
    "            phi[j, k] = phi[j, k - 1] - phi[k, k] * phi[k - j, k - 1]\n",
    "        sig[k] = sig[k - 1] * (1 - phi[k, k] ** 2)\n",
    "\n",
    "    sigma_v = sig[-1]\n",
    "    arcoefs = phi[1:, -1]\n",
    "    pacf_ = np.diag(phi).copy()\n",
    "    pacf_[0] = 1.0\n",
    "    return sigma_v, arcoefs#, pacf_, sig, phi  # return everything\n"
   ]
  },
  {
   "cell_type": "code",
   "execution_count": 2,
   "metadata": {},
   "outputs": [
    {
     "name": "stdout",
     "output_type": "stream",
     "text": [
      "(1.3624861878453038, array([-0.49723757]))\n",
      "(1.2154985604801103, array([-0.66055716, -0.32845383]))\n",
      "(1.1436067796904195, array([-0.74043691, -0.4891009 , -0.24319934]))\n",
      "(1.1017145872296494, array([-0.78698379, -0.58271185, -0.38491448, -0.19139394]))\n",
      "(1.07478235888951, array([-0.81690849, -0.64289374, -0.47602226, -0.31443991, -0.15635134]))\n"
     ]
    }
   ],
   "source": [
    "acov = [1.81, -0.9]\n",
    "for i in range(5):\n",
    "    print(levinson_durbin(s=acov, nlags=len(acov)-1, isacov=True))\n",
    "    acov.append(0)"
   ]
  }
 ],
 "metadata": {
  "kernelspec": {
   "display_name": "Python 3 (ipykernel)",
   "language": "python",
   "name": "python3"
  },
  "language_info": {
   "codemirror_mode": {
    "name": "ipython",
    "version": 3
   },
   "file_extension": ".py",
   "mimetype": "text/x-python",
   "name": "python",
   "nbconvert_exporter": "python",
   "pygments_lexer": "ipython3",
   "version": "3.9.12"
  },
  "vscode": {
   "interpreter": {
    "hash": "c9865fb5d71283cb980fa9c0698bd37a870b5188e8f13961bd1aa71b058b9a39"
   }
  }
 },
 "nbformat": 4,
 "nbformat_minor": 2
}
