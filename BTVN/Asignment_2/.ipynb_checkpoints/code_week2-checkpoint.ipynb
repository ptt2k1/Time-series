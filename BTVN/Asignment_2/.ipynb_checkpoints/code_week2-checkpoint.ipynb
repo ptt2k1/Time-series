{
 "cells": [
  {
   "cell_type": "markdown",
   "metadata": {
    "id": "fduX6n8J699g"
   },
   "source": [
    "#1. Code tham khảo về pmf, cdf \n",
    "\n",
    "Số câu của bài thi trắc nghiệm cuối kỳ môn toán của sinh viên Bách khoa Hà Nội được cho biến ngẫu nhiên có phân phối nhị thức. Giả sử một số sinh viên không học bài thì gọi $X$ là số câu mà sinh viên trả lời được.  \n",
    "\n",
    "$X\\sim B(n=40; p=0.25)$\n",
    "\n",
    "a) Tìm xác suất $P(X=25)$ \n",
    "\n",
    "b)Tìm xác suất để $P(X<=12)$\n",
    "\n",
    "d) Tìm xác suất $P( 25<X<35)$\n",
    "\n",
    "c) Tìm kỳ vọng và phương sai của X"
   ]
  },
  {
   "cell_type": "code",
   "execution_count": 1,
   "metadata": {
    "id": "PSgLLW6b69dJ"
   },
   "outputs": [],
   "source": [
    "from scipy.stats import binom # Gọi thư viện có gói nhị thức \n",
    "n=40 \n",
    "p=0.25\n",
    "X=binom(n,p) #Khai báo biến X có phân phối nhị thức \n"
   ]
  },
  {
   "cell_type": "code",
   "execution_count": 2,
   "metadata": {
    "colab": {
     "base_uri": "https://localhost:8080/"
    },
    "id": "kUHTJ5vL85VK",
    "outputId": "5bf39e80-838c-4c1b-8ab4-52b6111e1b0e"
   },
   "outputs": [
    {
     "data": {
      "text/plain": [
       "4.774401587646182e-07"
      ]
     },
     "execution_count": 2,
     "metadata": {},
     "output_type": "execute_result"
    }
   ],
   "source": [
    "# P(X=25)=p_X(25)=X.pmf(25)\n",
    "X.pmf(25)"
   ]
  },
  {
   "cell_type": "code",
   "execution_count": 3,
   "metadata": {
    "colab": {
     "base_uri": "https://localhost:8080/"
    },
    "id": "Z58-Sz3_9Jql",
    "outputId": "b85cfaad-b943-43e0-f876-d604eb1036da"
   },
   "outputs": [
    {
     "data": {
      "text/plain": [
       "0.8208657576539586"
      ]
     },
     "execution_count": 3,
     "metadata": {},
     "output_type": "execute_result"
    }
   ],
   "source": [
    "#P(X<=12)=F_X(12)=X.cdf(12)\n",
    "X.cdf(12)"
   ]
  },
  {
   "cell_type": "code",
   "execution_count": 4,
   "metadata": {
    "colab": {
     "base_uri": "https://localhost:8080/"
    },
    "id": "DtFili3C9hEg",
    "outputId": "2a1194be-bf4b-404d-8f4a-483537b8c198"
   },
   "outputs": [
    {
     "data": {
      "text/plain": [
       "1.1052577697512334e-07"
      ]
     },
     "execution_count": 4,
     "metadata": {},
     "output_type": "execute_result"
    }
   ],
   "source": [
    "#P(25<X<35)=P(X<=34)-P(X<=25)=F_X(34)-F_X(25)=X.cdf(34)-X.cdf(25)\n",
    "X.cdf(34)-X.cdf(25)"
   ]
  },
  {
   "cell_type": "code",
   "execution_count": 5,
   "metadata": {
    "colab": {
     "base_uri": "https://localhost:8080/"
    },
    "id": "h0-af4W1975i",
    "outputId": "27e06411-7ce9-4b95-b9f7-6510f2c71985"
   },
   "outputs": [
    {
     "data": {
      "text/plain": [
       "10.0"
      ]
     },
     "execution_count": 5,
     "metadata": {},
     "output_type": "execute_result"
    }
   ],
   "source": [
    "#Kỳ vọng \n",
    "X.mean()"
   ]
  },
  {
   "cell_type": "code",
   "execution_count": 6,
   "metadata": {
    "colab": {
     "base_uri": "https://localhost:8080/"
    },
    "id": "YMVW_Oc3-EOc",
    "outputId": "a5ffd939-c717-427f-9f4b-65c571148c62"
   },
   "outputs": [
    {
     "data": {
      "text/plain": [
       "7.5"
      ]
     },
     "execution_count": 6,
     "metadata": {},
     "output_type": "execute_result"
    }
   ],
   "source": [
    "#Phương sai \n",
    "X.var()"
   ]
  },
  {
   "cell_type": "markdown",
   "metadata": {
    "id": "0BmRKK01-wkA"
   },
   "source": [
    "# 2. Code về hàm pdf và cdf\n",
    "\n",
    "Điểm của sinh viên Bách khoa Hà Nội giả sử là biến ngẫu nhiên $Y$ tuân theo luật phân phối chuẩn $Y\\sim N(\\mu=6, \\sigma^2=2.5^2)$\n",
    "\n",
    "a) Tìm xác suất P(X>4)\n",
    "\n",
    "b) Tìm xác suất $P(4<X<8.5)$\n",
    "\n",
    "c) Tìm xác suất có điều kiện $P(X<0.85|X>4)$\n",
    "\n",
    "\n",
    "\n"
   ]
  },
  {
   "cell_type": "code",
   "execution_count": 7,
   "metadata": {
    "colab": {
     "base_uri": "https://localhost:8080/"
    },
    "id": "jHDDWkbTBis8",
    "outputId": "96826b75-2310-4843-dd20-de91da79f6fe"
   },
   "outputs": [
    {
     "data": {
      "text/plain": [
       "0.7881446014166034"
      ]
     },
     "execution_count": 7,
     "metadata": {},
     "output_type": "execute_result"
    }
   ],
   "source": [
    "from scipy.stats import norm \n",
    "\n",
    "Y=norm(6, 2.5)\n",
    "#P(X>4)\n",
    "1-Y.cdf(4)"
   ]
  },
  {
   "cell_type": "code",
   "execution_count": 8,
   "metadata": {
    "colab": {
     "base_uri": "https://localhost:8080/"
    },
    "id": "uDdg_6voBv9p",
    "outputId": "f1184663-db65-4a66-ef8a-fad45355f45d"
   },
   "outputs": [
    {
     "data": {
      "text/plain": [
       "0.6294893474851462"
      ]
     },
     "execution_count": 8,
     "metadata": {},
     "output_type": "execute_result"
    }
   ],
   "source": [
    "#P(4<X<8.5)\n",
    "\n",
    "Y.cdf(8.5)-Y.cdf(4)\n",
    "\n"
   ]
  },
  {
   "cell_type": "code",
   "execution_count": 9,
   "metadata": {
    "colab": {
     "base_uri": "https://localhost:8080/"
    },
    "id": "yDPQUBBQB8_u",
    "outputId": "b9732d39-df97-4603-bc88-f96c4c646b59"
   },
   "outputs": [
    {
     "data": {
      "text/plain": [
       "0.7986977850938879"
      ]
     },
     "execution_count": 9,
     "metadata": {},
     "output_type": "execute_result"
    }
   ],
   "source": [
    "#Tìm xác suất có điều kiện $P(X<0.85|X>4)$\n",
    "\n",
    "(Y.cdf(8.5)-Y.cdf(4))/(1-Y.cdf(4))"
   ]
  },
  {
   "cell_type": "markdown",
   "metadata": {
    "id": "RZqfWbERCXt-"
   },
   "source": [
    "#3. Biến ngẫu nhiên 2 chiều \n",
    "\n",
    "Tại một trạm xăng, xăng được lưu trữ trong bể chứa theo tuần. Gọi $X$ là biến ngẫu nhiên biểu diễn cho tỷ lệ dung tích được lưu trữ trong tuần. Gọi $Y$ là tỷ lệ của dung tích bể bán được trong cùng một tuần. Chúng ta biết rằng trạm xăng không thể bán được số xăng nhiều hơn những gì được tích trữ trong tuần nên có nghĩa là $Y<X$. Hàm mật độ đồng thời của biến ngẫu nhiên $(X,Y)$ là:\n",
    "\n",
    "\n",
    "\n",
    "$f_{X,Y}(x,y)=\\begin{cases}{3x}, 0 \\leq y\\leq x \\leq 1\\\\\n",
    "0; \\text{trái lại};\n",
    "\\end{cases}$\n",
    "\n",
    "\n",
    "a) Tìm  $P(X\\leq 1/2, Y\\leq 0.03)$. \n",
    "\n",
    "b) Tìm $P(Y<0.3X)$."
   ]
  },
  {
   "cell_type": "code",
   "execution_count": 10,
   "metadata": {
    "colab": {
     "base_uri": "https://localhost:8080/"
    },
    "id": "loE2WibZEfTb",
    "outputId": "c0813403-6c7f-4b75-ddb8-92f5317e018f"
   },
   "outputs": [
    {
     "name": "stdout",
     "output_type": "stream",
     "text": [
      "Xác suất cần tìm: 0.0112365\n"
     ]
    }
   ],
   "source": [
    "#a)\n",
    "import scipy\n",
    "prob_D1 = scipy.integrate.dblquad(lambda y, x: 3*x, 0, 0.03, lambda x: 0, lambda x: x)[0]\n",
    "prob_D2 = scipy.integrate.dblquad(lambda y, x: 3*x, 0.03, 0.5, lambda x: 0, lambda x: 0.03)[0]\n",
    "prob_D = prob_D1 + prob_D2\n",
    "print(\"Xác suất cần tìm:\", prob_D)"
   ]
  },
  {
   "cell_type": "code",
   "execution_count": 11,
   "metadata": {
    "colab": {
     "base_uri": "https://localhost:8080/"
    },
    "id": "EB9neqAfE-W1",
    "outputId": "7c829391-9f9f-4c70-ff8d-98df32edf3c4"
   },
   "outputs": [
    {
     "name": "stdout",
     "output_type": "stream",
     "text": [
      "b)  0.011250000000000001\n"
     ]
    }
   ],
   "source": [
    "func = lambda y, x: 3*x\n",
    "print(\"b) \", scipy.integrate.dblquad(func, 0, 1/2, lambda x: 0, lambda x: 0.03)[0])"
   ]
  },
  {
   "cell_type": "markdown",
   "metadata": {
    "id": "DSeRLSiKEPJ4"
   },
   "source": [
    "#Bài tập thực hành \n",
    "\n",
    "# Bài 1: \n",
    "\n",
    "\n",
    "Thu nhập của một người lao động của một nước  là biến ngẫu nhiên $X$ có phân phối chuẩn $Norm(\\mu= 9,\\sigma=10)$. Chọn ngẫu nhiên một người lao động\n",
    "\n",
    "3.1) Tìm xác suất thu nhập của người lao động được chọn cao hơn gấp đôi mức lương trung bình. \n",
    "\n",
    "3.2) Tìm ngưỡng $c$ là ngưỡng mức lương thu nhập  cao sao cho  $P(X<c)=0.2$.\n",
    "\n",
    "Ghi chú: Biết rằng phân phối chuẩn tắc $$\\Phi(x)=P(X<x)=\\int_{-\\infty}^{x}\\frac{e^{-t^2/2}}{\\sqrt{2.\\pi}}dt$$\n",
    "\n",
    "#Bài 2: \n",
    "\n",
    "Tại một trạm xăng, xăng được lưu trữ trong bể chứa theo tuần. Gọi $X$ là biến ngẫu nhiên biểu diễn cho tỷ lệ dung tích được lưu trữ trong tuần. Gọi $Y$ là tỷ lệ của dung tích bể bán được trong cùng một tuần. Chúng ta biết rằng trạm xăng không thể bán được số xăng nhiều hơn những gì được tích trữ trong tuần nên có nghĩa là $Y<X$. Hàm mật độ đồng thời của biến ngẫu nhiên $(X,Y)$ là:\n",
    "\n",
    "\n",
    "\n",
    "$f_{X,Y}(x,y)=\\begin{cases}{3x}, 0 \\leq y\\leq x \\leq 1\\\\\n",
    "0; \\text{trái lại};\n",
    "\\end{cases}$\n",
    "\n",
    "\n",
    "a) Tìm  $P(X\\leq 1/2| Y\\leq 0.03)$. \n",
    "\n",
    "b) Tìm $P(Y<0.3X|Y>0.1X)$.\n",
    "\n",
    "\n"
   ]
  },
  {
   "cell_type": "code",
   "execution_count": 12,
   "metadata": {},
   "outputs": [
    {
     "data": {
      "text/plain": [
       "0.18406012534675953"
      ]
     },
     "execution_count": 12,
     "metadata": {},
     "output_type": "execute_result"
    }
   ],
   "source": [
    "#3.1\n",
    "from scipy.stats import norm \n",
    "Z = norm(9,10)\n",
    "1-Z.cdf(Z.mean()*2)"
   ]
  },
  {
   "cell_type": "code",
   "execution_count": 15,
   "metadata": {},
   "outputs": [
    {
     "ename": "SyntaxError",
     "evalue": "expression cannot contain assignment, perhaps you meant \"==\"? (4263855083.py, line 7)",
     "output_type": "error",
     "traceback": [
      "\u001b[1;36m  Input \u001b[1;32mIn [15]\u001b[1;36m\u001b[0m\n\u001b[1;33m    f = lambda x: np.exp((-x*x)/2)/(m.sqrt(2)*3.14)(quad(f,-m.inf,c) = 0.2)\u001b[0m\n\u001b[1;37m                                                    ^\u001b[0m\n\u001b[1;31mSyntaxError\u001b[0m\u001b[1;31m:\u001b[0m expression cannot contain assignment, perhaps you meant \"==\"?\n"
     ]
    }
   ],
   "source": [
    "import numpy as np\n",
    "import math as m\n",
    "import sympy as smp\n",
    "from scipy.integrate import quad\n",
    "from scipy.integrate import cumulative_trapezoid\n",
    "y = smp.symbols('c')\n",
    "f = lambda x: np.exp((-x*x)/2)/(m.sqrt(2)*3.14)\n",
    "(quad(f,-m.inf,c) = 0.2)\n",
    "\n"
   ]
  },
  {
   "cell_type": "code",
   "execution_count": 14,
   "metadata": {},
   "outputs": [
    {
     "name": "stdout",
     "output_type": "stream",
     "text": [
      "Xác suất cần tìm: 0.0024028834601521817\n"
     ]
    }
   ],
   "source": [
    "#2a\n",
    "import scipy\n",
    "prob_A1 = scipy.integrate.dblquad(lambda y, x: 3*x, 0, 0.03, lambda x: 0, lambda x: x)[0]\n",
    "prob_A2 = scipy.integrate.dblquad(lambda y, x: 3*x, 0.03, 0.5, lambda x: 0, lambda x: 0.03)[0]\n",
    "prob_A = prob_A1/(prob_A1+prob_A2)\n",
    "print(\"Xác suất cần tìm:\", prob_A)"
   ]
  },
  {
   "cell_type": "code",
   "execution_count": 28,
   "metadata": {},
   "outputs": [],
   "source": [
    "#2b\n"
   ]
  },
  {
   "cell_type": "code",
   "execution_count": null,
   "metadata": {},
   "outputs": [],
   "source": []
  }
 ],
 "metadata": {
  "colab": {
   "collapsed_sections": [],
   "provenance": []
  },
  "kernelspec": {
   "display_name": "Python 3 (ipykernel)",
   "language": "python",
   "name": "python3"
  },
  "language_info": {
   "codemirror_mode": {
    "name": "ipython",
    "version": 3
   },
   "file_extension": ".py",
   "mimetype": "text/x-python",
   "name": "python",
   "nbconvert_exporter": "python",
   "pygments_lexer": "ipython3",
   "version": "3.9.12"
  }
 },
 "nbformat": 4,
 "nbformat_minor": 1
}
