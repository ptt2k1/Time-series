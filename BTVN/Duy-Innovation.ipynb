{
 "cells": [
  {
   "cell_type": "code",
   "execution_count": 1,
   "metadata": {},
   "outputs": [],
   "source": [
    "from statsmodels.tsa.stattools import levinson_durbin,levinson_durbin_pacf, pacf,acf, innovations_algo\n",
    "from statsmodels.tsa.arima_model import ARIMA, ARMA\n",
    "from statsmodels.tsa.statespace.sarimax import SARIMAX\n",
    "from statsmodels.tsa.arima_process import ArmaProcess, arma_acf, arma_acovf\n",
    "import statsmodels.api as sm\n",
    "import numpy as np\n",
    "import warnings\n",
    "warnings.filterwarnings('ignore')\n",
    "import matplotlib.pyplot as plt\n"
   ]
  },
  {
   "cell_type": "code",
   "execution_count": 2,
   "metadata": {},
   "outputs": [],
   "source": [
    "#ARMA(p, q): hệ số của ar_coff đổi dấu\n",
    "#vd: X_t - 0.4X_(t-1) + 0.7X_(t-2) = Z_t + 0.3Z_(t-1) - 0.4Z_(t-2)\n",
    "#ar_coff = [0.4, -0.7]\n",
    "#ma_coff = [0.3, -0.4]\n",
    "ar_coff = [1, 0.4, -0.7]\n",
    "ma_coff = [1, 0.3, -0.4]\n",
    "acf = []\n",
    "acvf = []\n",
    "lags = 4\n",
    "sigma2 = 1\n",
    "my_order = (1,1,1)\n",
    "my_seasonal_order = (1, 1, 1, 12)"
   ]
  },
  {
   "cell_type": "code",
   "execution_count": 3,
   "metadata": {},
   "outputs": [],
   "source": [
    "#ACVF by hand\n",
    "def sample_autocovariance(X, lags):\n",
    "    res = 0\n",
    "    k = abs(lags)\n",
    "    X_mean = X.mean()\n",
    "    for i in range(0, len(X) - k):\n",
    "        res += (X[i + k] - X_mean) * (X[i] - X_mean)\n",
    "    return res / len(X)\n",
    "#ACF by hand\n",
    "def sample_autocorreltion(X, h):\n",
    "    return sample_autocovariance(X, h) / sample_autocovariance(X, 0)"
   ]
  },
  {
   "cell_type": "code",
   "execution_count": 4,
   "metadata": {},
   "outputs": [],
   "source": [
    "#Arma from Coeff\n",
    "def ArmaFromCoeff(ar_coff,ma_coff):\n",
    "    return ArmaProcess.from_coeffs(ar_coff,ma_coff)"
   ]
  },
  {
   "cell_type": "code",
   "execution_count": 5,
   "metadata": {},
   "outputs": [],
   "source": [
    "#Arima with seasonal\n",
    "def Sarimax(X, my_order, my_seasonal_order):\n",
    "    return SARIMAX(X, order =my_order, seasonal_order=my_seasonal_order).fit()"
   ]
  },
  {
   "cell_type": "code",
   "execution_count": 6,
   "metadata": {},
   "outputs": [
    {
     "ename": "ValueError",
     "evalue": "The model's autoregressive parameters (ar) indicate that the process\n is non-stationary. arma_acovf can only be used with stationary processes.\n",
     "output_type": "error",
     "traceback": [
      "\u001b[1;31m---------------------------------------------------------------------------\u001b[0m",
      "\u001b[1;31mValueError\u001b[0m                                Traceback (most recent call last)",
      "Input \u001b[1;32mIn [6]\u001b[0m, in \u001b[0;36m<cell line: 9>\u001b[1;34m()\u001b[0m\n\u001b[0;32m      7\u001b[0m lags \u001b[38;5;241m=\u001b[39m \u001b[38;5;241m5\u001b[39m\n\u001b[0;32m      8\u001b[0m sigma2 \u001b[38;5;241m=\u001b[39m \u001b[38;5;241m0.0484\u001b[39m\n\u001b[1;32m----> 9\u001b[0m acvf \u001b[38;5;241m=\u001b[39m np\u001b[38;5;241m.\u001b[39mndarray\u001b[38;5;241m.\u001b[39mtolist(\u001b[43marma_acovf\u001b[49m\u001b[43m(\u001b[49m\u001b[43mar_coff\u001b[49m\u001b[43m,\u001b[49m\u001b[43mma_coff\u001b[49m\u001b[43m,\u001b[49m\u001b[43mlags\u001b[49m\u001b[38;5;241;43m+\u001b[39;49m\u001b[38;5;241;43m1\u001b[39;49m\u001b[43m,\u001b[49m\u001b[43mdtype\u001b[49m\u001b[38;5;241;43m=\u001b[39;49m\u001b[38;5;28;43mfloat\u001b[39;49m\u001b[43m,\u001b[49m\u001b[43msigma2\u001b[49m\u001b[38;5;241;43m=\u001b[39;49m\u001b[43msigma2\u001b[49m\u001b[43m)\u001b[49m)\n\u001b[0;32m     10\u001b[0m acf \u001b[38;5;241m=\u001b[39m np\u001b[38;5;241m.\u001b[39mndarray\u001b[38;5;241m.\u001b[39mtolist(arma_acf(ar_coff,ma_coff,lags\u001b[38;5;241m+\u001b[39m\u001b[38;5;241m1\u001b[39m))\n\u001b[0;32m     11\u001b[0m \u001b[38;5;28mprint\u001b[39m(\u001b[38;5;124m\"\u001b[39m\u001b[38;5;124mACVF \u001b[39m\u001b[38;5;130;01m\\n\u001b[39;00m\u001b[38;5;124m\"\u001b[39m,acvf)\n",
      "File \u001b[1;32m~\\anaconda3\\lib\\site-packages\\statsmodels\\tsa\\arima_process.py:168\u001b[0m, in \u001b[0;36marma_acovf\u001b[1;34m(ar, ma, nobs, sigma2, dtype)\u001b[0m\n\u001b[0;32m    166\u001b[0m     \u001b[38;5;28;01mreturn\u001b[39;00m out\n\u001b[0;32m    167\u001b[0m \u001b[38;5;28;01melif\u001b[39;00m p \u001b[38;5;241m>\u001b[39m \u001b[38;5;241m0\u001b[39m \u001b[38;5;129;01mand\u001b[39;00m np\u001b[38;5;241m.\u001b[39mmax(np\u001b[38;5;241m.\u001b[39mabs(np\u001b[38;5;241m.\u001b[39mroots(ar))) \u001b[38;5;241m>\u001b[39m\u001b[38;5;241m=\u001b[39m \u001b[38;5;241m1\u001b[39m:\n\u001b[1;32m--> 168\u001b[0m     \u001b[38;5;28;01mraise\u001b[39;00m \u001b[38;5;167;01mValueError\u001b[39;00m(NONSTATIONARY_ERROR)\n\u001b[0;32m    170\u001b[0m \u001b[38;5;66;03m# Get the moving average representation coefficients that we need\u001b[39;00m\n\u001b[0;32m    171\u001b[0m ma_coeffs \u001b[38;5;241m=\u001b[39m arma2ma(ar, ma, lags\u001b[38;5;241m=\u001b[39mm)\n",
      "\u001b[1;31mValueError\u001b[0m: The model's autoregressive parameters (ar) indicate that the process\n is non-stationary. arma_acovf can only be used with stationary processes.\n"
     ]
    }
   ],
   "source": [
    "#Nếu cho mô hình như sau:\n",
    "#ARMA(p, q): hệ số của ar_coff đổi dấu\n",
    "#vd: X_t - 0.4X_(t-1) + 0.7X_(t-2) = Z_t + 0.3Z_(t-1) - 0.4Z_(t-2)\n",
    "#ar_coff = [1, 0.4, -0.7]\n",
    "ar_coff = [0.4, -0.7]\n",
    "ma_coff = [0.3, -0.4]\n",
    "lags = 5\n",
    "sigma2 = 0.0484\n",
    "acvf = np.ndarray.tolist(arma_acovf(ar_coff,ma_coff,lags+1,dtype=float,sigma2=sigma2))\n",
    "acf = np.ndarray.tolist(arma_acf(ar_coff,ma_coff,lags+1))\n",
    "print(\"ACVF \\n\",acvf)\n",
    "print(\"ACF \\n\",acf)"
   ]
  },
  {
   "cell_type": "code",
   "execution_count": 9,
   "metadata": {},
   "outputs": [
    {
     "name": "stdout",
     "output_type": "stream",
     "text": [
      "theta =  [[ 0.        ]\n",
      " [-0.49723757]\n",
      " [-0.66055716]\n",
      " [-0.74043691]\n",
      " [-0.78698379]]\n",
      "v:  [1.81       1.36248619 1.21549856 1.14360678 1.10171459]\n"
     ]
    }
   ],
   "source": [
    "acvf = [1.81, -0.9]\n",
    "#innovation algo\n",
    "\n",
    "for i in range(1,5):\n",
    "    if i < len(acvf):\n",
    "        theta, v = innovations_algo(acvf[:i+1]) \n",
    "        #print(\"theta = \", theta)\n",
    "        #print(\"v: \", v[-1])\n",
    "    else:\n",
    "        acvf.append(0)\n",
    "        theta, v = innovations_algo(acvf)\n",
    "        #print(\"theta = \", theta)\n",
    "        #print(\"v: \", v[-1])\n",
    "print(\"theta = \", theta)\n",
    "print(\"v: \", v)"
   ]
  },
  {
   "cell_type": "code",
   "execution_count": 8,
   "metadata": {},
   "outputs": [
    {
     "ename": "NameError",
     "evalue": "name 'X' is not defined",
     "output_type": "error",
     "traceback": [
      "\u001b[1;31m---------------------------------------------------------------------------\u001b[0m",
      "\u001b[1;31mNameError\u001b[0m                                 Traceback (most recent call last)",
      "Input \u001b[1;32mIn [8]\u001b[0m, in \u001b[0;36m<cell line: 1>\u001b[1;34m()\u001b[0m\n\u001b[1;32m----> 1\u001b[0m Sarimax_res \u001b[38;5;241m=\u001b[39m Sarimax(\u001b[43mX\u001b[49m, my_order, my_seasonal_order)\n",
      "\u001b[1;31mNameError\u001b[0m: name 'X' is not defined"
     ]
    }
   ],
   "source": [
    "Sarimax_res = Sarimax(X, my_order, my_seasonal_order)"
   ]
  },
  {
   "cell_type": "code",
   "execution_count": 35,
   "metadata": {},
   "outputs": [
    {
     "ename": "NameError",
     "evalue": "name 'plt' is not defined",
     "output_type": "error",
     "traceback": [
      "\u001b[1;31m---------------------------------------------------------------------------\u001b[0m",
      "\u001b[1;31mNameError\u001b[0m                                 Traceback (most recent call last)",
      "Cell \u001b[1;32mIn[35], line 1\u001b[0m\n\u001b[1;32m----> 1\u001b[0m plt\u001b[39m.\u001b[39mfigure(figsize\u001b[39m=\u001b[39m(\u001b[39m16\u001b[39m,\u001b[39m4\u001b[39m))\n\u001b[0;32m      2\u001b[0m plt\u001b[39m.\u001b[39mplot(X, label\u001b[39m=\u001b[39m\u001b[39m\"\u001b[39m\u001b[39mActual\u001b[39m\u001b[39m\"\u001b[39m)\n\u001b[0;32m      3\u001b[0m plt\u001b[39m.\u001b[39mplot(Sarimax_res\u001b[39m.\u001b[39mpredict(), label\u001b[39m=\u001b[39m\u001b[39m\"\u001b[39m\u001b[39mPredicted\u001b[39m\u001b[39m\"\u001b[39m)\n",
      "\u001b[1;31mNameError\u001b[0m: name 'plt' is not defined"
     ]
    }
   ],
   "source": [
    "plt.figure(figsize=(16,4))\n",
    "plt.plot(X, label=\"Actual\")\n",
    "plt.plot(Sarimax_res.predict(), label=\"Predicted\")\n",
    "plt.legend()"
   ]
  }
 ],
 "metadata": {
  "kernelspec": {
   "display_name": "Python 3 (ipykernel)",
   "language": "python",
   "name": "python3"
  },
  "language_info": {
   "codemirror_mode": {
    "name": "ipython",
    "version": 3
   },
   "file_extension": ".py",
   "mimetype": "text/x-python",
   "name": "python",
   "nbconvert_exporter": "python",
   "pygments_lexer": "ipython3",
   "version": "3.9.12"
  },
  "vscode": {
   "interpreter": {
    "hash": "067d1e07da3d3d6f96a9c661d3f9f126a682dc0ea3431ea2ad1f0ec48245ef88"
   }
  }
 },
 "nbformat": 4,
 "nbformat_minor": 4
}
