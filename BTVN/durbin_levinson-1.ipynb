{
 "cells": [
  {
   "cell_type": "code",
   "execution_count": 2,
   "metadata": {},
   "outputs": [],
   "source": [
    "import numpy as np\n",
    "from statsmodels.tools.validation import (\n",
    "    array_like,\n",
    "    bool_like,\n",
    "    dict_like,\n",
    "    float_like,\n",
    "    int_like,\n",
    "    string_like,\n",
    ")\n",
    "\n",
    "def levinson_durbin(s, nlags=10, isacov=False):\n",
    "    \"\"\"\n",
    "    Levinson-Durbin recursion for autoregressive processes.\n",
    "\n",
    "    Parameters\n",
    "    ----------\n",
    "    s : array_like\n",
    "        If isacov is False, then this is the time series. If iasacov is true\n",
    "        then this is interpreted as autocovariance starting with lag 0.\n",
    "    nlags : int, optional\n",
    "        The largest lag to include in recursion or order of the autoregressive\n",
    "        process.\n",
    "    isacov : bool, optional\n",
    "        Flag indicating whether the first argument, s, contains the\n",
    "        autocovariances or the data series.\n",
    "\n",
    "    Returns\n",
    "    -------\n",
    "    sigma_v : float\n",
    "        The estimate of the error variance.\n",
    "    arcoefs : ndarray\n",
    "        The estimate of the autoregressive coefficients for a model including\n",
    "        nlags.\n",
    "    pacf : ndarray\n",
    "        The partial autocorrelation function.\n",
    "    sigma : ndarray\n",
    "        The entire sigma array from intermediate result, last value is sigma_v.\n",
    "    phi : ndarray\n",
    "        The entire phi array from intermediate result, last column contains\n",
    "        autoregressive coefficients for AR(nlags).\n",
    "\n",
    "    Notes\n",
    "    -----\n",
    "    This function returns currently all results, but maybe we drop sigma and\n",
    "    phi from the returns.\n",
    "\n",
    "    If this function is called with the time series (isacov=False), then the\n",
    "    sample autocovariance function is calculated with the default options\n",
    "    (biased, no fft).\n",
    "    \"\"\"\n",
    "    s = array_like(s, \"s\")\n",
    "    nlags = int_like(nlags, \"nlags\")\n",
    "    isacov = bool_like(isacov, \"isacov\")\n",
    "\n",
    "    order = nlags\n",
    "\n",
    "    if isacov:\n",
    "        sxx_m = s\n",
    "\n",
    "    phi = np.zeros((order + 1, order + 1), \"d\")\n",
    "    sig = np.zeros(order + 1)\n",
    "    # initial points for the recursion\n",
    "    phi[1, 1] = sxx_m[1] / sxx_m[0]\n",
    "    sig[1] = sxx_m[0] - phi[1, 1] * sxx_m[1]\n",
    "    for k in range(2, order + 1):\n",
    "        phi[k, k] = (\n",
    "            sxx_m[k] - np.dot(phi[1:k, k - 1], sxx_m[1:k][::-1])\n",
    "        ) / sig[k - 1]\n",
    "        for j in range(1, k):\n",
    "            phi[j, k] = phi[j, k - 1] - phi[k, k] * phi[k - j, k - 1]\n",
    "        sig[k] = sig[k - 1] * (1 - phi[k, k] ** 2)\n",
    "\n",
    "    sigma_v = sig[-1]\n",
    "    arcoefs = phi[1:, -1]\n",
    "    pacf_ = np.diag(phi).copy()\n",
    "    pacf_[0] = 1.0\n",
    "    return sigma_v, arcoefs#, pacf_, sig, phi  # return everything\n"
   ]
  },
  {
   "cell_type": "code",
   "execution_count": 3,
   "metadata": {},
   "outputs": [
    {
     "name": "stdout",
     "output_type": "stream",
     "text": [
      "(0.0445010644257703, array([-0.37338936, -0.10280112]))\n",
      "(0.04446190365886819, array([-0.37643892, -0.11387761, -0.02966473]))\n",
      "(0.04445876474300118, array([-0.37668817, -0.11483444, -0.03282767, -0.00840225]))\n",
      "(0.0444585161669102, array([-0.37670804, -0.11491207, -0.0330992 , -0.00929296, -0.00236456]))\n",
      "(0.04445849656733508, array([-0.37670961, -0.11491824, -0.03312118, -0.00936925, -0.00261468,\n",
      "       -0.00066397]))\n"
     ]
    }
   ],
   "source": [
    "acov = [0.0508, -0.0172, 0.0012]\n",
    "for i in range(5):\n",
    "    print(levinson_durbin(s=acov, nlags=len(acov)-1, isacov=True))\n",
    "    acov.append(0)"
   ]
  },
  {
   "cell_type": "code",
   "execution_count": null,
   "metadata": {},
   "outputs": [],
   "source": []
  }
 ],
 "metadata": {
  "kernelspec": {
   "display_name": "Python 3 (ipykernel)",
   "language": "python",
   "name": "python3"
  },
  "language_info": {
   "codemirror_mode": {
    "name": "ipython",
    "version": 3
   },
   "file_extension": ".py",
   "mimetype": "text/x-python",
   "name": "python",
   "nbconvert_exporter": "python",
   "pygments_lexer": "ipython3",
   "version": "3.9.12"
  },
  "vscode": {
   "interpreter": {
    "hash": "c9865fb5d71283cb980fa9c0698bd37a870b5188e8f13961bd1aa71b058b9a39"
   }
  }
 },
 "nbformat": 4,
 "nbformat_minor": 2
}
